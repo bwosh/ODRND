{
 "cells": [
  {
   "cell_type": "markdown",
   "metadata": {},
   "source": [
    "# RElu6"
   ]
  },
  {
   "cell_type": "code",
   "execution_count": 15,
   "metadata": {},
   "outputs": [],
   "source": [
    "import matplotlib.pyplot as plt\n",
    "import numpy as np"
   ]
  },
  {
   "cell_type": "code",
   "execution_count": 41,
   "metadata": {},
   "outputs": [
    {
     "data": {
      "image/png": "[encoded data removed]",
      "text/plain": [
       "<Figure size 432x288 with 1 Axes>"
      ]
     },
     "metadata": {
      "needs_background": "light"
     },
     "output_type": "display_data"
    }
   ],
   "source": [
    "def relu(x):\n",
    "    return max(0,x)\n",
    "\n",
    "def c (x):\n",
    "    #return relu(x)-relu(x-6)\n",
    "    return min(max(0,x),6)\n",
    "\n",
    "x = np.arange(-1,7,0.1)\n",
    "y1 = [relu(i) for i in x]\n",
    "y2 = [c(i) for i in x]\n",
    "#plt.plot(x, y1, label='relu')\n",
    "plt.plot(x, y2, label='relu6')\n",
    "plt.legend()\n",
    "pass"
   ]
  },
  {
   "cell_type": "markdown",
   "metadata": {},
   "source": [
    "# MNv2"
   ]
  },
  {
   "cell_type": "code",
   "execution_count": 3,
   "metadata": {},
   "outputs": [],
   "source": [
    "n_class=1000\n",
    "input_size=224\n",
    "width_mult=1.\n",
    "dropout_ratio=0.2\n",
    "use_batch_norm=True"
   ]
  },
  {
   "cell_type": "code",
   "execution_count": 24,
   "metadata": {},
   "outputs": [
    {
     "data": {
      "text/plain": [
       "(32, 1280)"
      ]
     },
     "execution_count": 24,
     "metadata": {},
     "output_type": "execute_result"
    }
   ],
   "source": [
    "input_channel = 32\n",
    "last_channel = 1280\n",
    "interverted_residual_setting = [\n",
    "    # t, c, n, s\n",
    "    [1, 16, 1, 1],\n",
    "    [6, 24, 2, 2],\n",
    "    [6, 32, 3, 2],\n",
    "    [6, 64, 4, 2],\n",
    "    [6, 96, 3, 1],\n",
    "    [6, 160, 3, 2],\n",
    "    [6, 320, 1, 1],\n",
    "]\n",
    "\n",
    "assert input_size % 32 == 0\n",
    "input_channel = int(input_channel * width_mult)\n",
    "last_channel = int(last_channel * width_mult) if width_mult > 1.0 else last_channel\n",
    "\n",
    "input_channel, last_channel"
   ]
  },
  {
   "cell_type": "code",
   "execution_count": 25,
   "metadata": {},
   "outputs": [],
   "source": [
    "def conv_bn(inp, oup, stride, use_batch_norm=True):\n",
    "    return None\n",
    "\n",
    "class InvertedResidual:\n",
    "    def __init__(self, inp, oup, stride, expand_ratio, use_batch_norm=True, onnx_compatible=False):\n",
    "        print(inp, oup, stride, expand_ratio, use_batch_norm)\n",
    "        pass\n",
    "\n",
    "block = InvertedResidual"
   ]
  },
  {
   "cell_type": "code",
   "execution_count": 26,
   "metadata": {},
   "outputs": [],
   "source": [
    "features = [conv_bn(3, input_channel, 2)]"
   ]
  },
  {
   "cell_type": "code",
   "execution_count": 27,
   "metadata": {},
   "outputs": [
    {
     "name": "stdout",
     "output_type": "stream",
     "text": [
      "32 16 1 1 True\n",
      "16 24 2 6 True\n",
      "24 24 1 6 True\n",
      "24 32 2 6 True\n",
      "32 32 1 6 True\n",
      "32 32 1 6 True\n",
      "32 64 2 6 True\n",
      "64 64 1 6 True\n",
      "64 64 1 6 True\n",
      "64 64 1 6 True\n",
      "64 96 1 6 True\n",
      "96 96 1 6 True\n",
      "96 96 1 6 True\n",
      "96 160 2 6 True\n",
      "160 160 1 6 True\n",
      "160 160 1 6 True\n",
      "160 320 1 6 True\n"
     ]
    }
   ],
   "source": [
    "for t, c, n, s in interverted_residual_setting:\n",
    "            output_channel = int(c * width_mult)\n",
    "            for i in range(n):\n",
    "                if i == 0:\n",
    "                    features.append(block(input_channel, output_channel, s,\n",
    "                                               expand_ratio=t, use_batch_norm=use_batch_norm))\n",
    "                else:\n",
    "                    features.append(block(input_channel, output_channel, 1,\n",
    "                                               expand_ratio=t, use_batch_norm=use_batch_norm))\n",
    "                input_channel = output_channel"
   ]
  },
  {
   "cell_type": "code",
   "execution_count": 11,
   "metadata": {},
   "outputs": [],
   "source": [
    "# keras layers\n",
    "import numpy as np"
   ]
  },
  {
   "cell_type": "code",
   "execution_count": 6,
   "metadata": {},
   "outputs": [],
   "source": [
    "from tensorflow.keras.layers import Dense, Input\n",
    "from tensorflow.keras.models import Model\n",
    "import tensorflow.keras.backend as K"
   ]
  },
  {
   "cell_type": "markdown",
   "metadata": {},
   "source": [
    "### Test framework"
   ]
  },
  {
   "cell_type": "code",
   "execution_count": 94,
   "metadata": {},
   "outputs": [],
   "source": [
    "def get_model(layer):\n",
    "    input = Input(shape=(10))\n",
    "    d = layer\n",
    "\n",
    "    x = d(input)\n",
    "    model = Model(inputs=input, outputs = x)\n",
    "    model.compile(\"sgd\",\"mse\")\n",
    "    return model"
   ]
  },
  {
   "cell_type": "code",
   "execution_count": 99,
   "metadata": {},
   "outputs": [],
   "source": [
    "def check(keras_layer, copy_fn, eps = 1e-4, verbose = False):\n",
    "    # create model with layer & copied behaviour\n",
    "    model = get_model(keras_layer)\n",
    "    copy_layer = copy_fn(keras_layer)\n",
    "    \n",
    "    # get results\n",
    "    test_data = np.random.rand(1,10)\n",
    "    gt_output = model.predict(test_data)\n",
    "    copied_output = copy_layer.forward(test_data)\n",
    "    \n",
    "    result = True\n",
    "    \n",
    "    # compare shapes\n",
    "    if gt_output.shape != copied_output.shape:\n",
    "        print(f\"Shape: ERROR: (GT){gt_output.shape} vs (COPY){copied_output.shape}\")\n",
    "        result = False\n",
    "    else:\n",
    "        print(\"Shape: OK\")\n",
    "    \n",
    "    # compare values\n",
    "    valid_cells = np.sum(np.abs(gt_output-copied_output)<eps)\n",
    "    all_cells = 1\n",
    "    for i in range(len(gt_output.shape)):\n",
    "        all_cells *= gt_output.shape[i]\n",
    "    \n",
    "    if (all_cells==valid_cells):\n",
    "        print(f\"Values (eps={eps}): OK\")\n",
    "    else:\n",
    "        print(f\"Values (eps={eps}): ERROR, only {valid_cells}/{all_cells} are valid\")\n",
    "        result = False\n",
    "        if verbose:\n",
    "            print(\"(GT)\", gt_output)\n",
    "            print(\"(COPY)\", copied_output)\n",
    "    \n",
    "    return result "
   ]
  },
  {
   "cell_type": "markdown",
   "metadata": {},
   "source": [
    "### Layers"
   ]
  },
  {
   "cell_type": "code",
   "execution_count": 100,
   "metadata": {},
   "outputs": [
    {
     "name": "stdout",
     "output_type": "stream",
     "text": [
      "Shape: OK\n",
      "Values (eps=0.0001): OK\n"
     ]
    },
    {
     "data": {
      "text/plain": [
       "True"
      ]
     },
     "execution_count": 100,
     "metadata": {},
     "output_type": "execute_result"
    }
   ],
   "source": [
    "class DenseLayer:\n",
    "    def __init__(self, keras_dense_layer):\n",
    "        self.d = keras_dense_layer\n",
    "        self.weights = K.get_value(d.weights[0])\n",
    "        self.bias = K.get_value(d.weights[1])\n",
    "        \n",
    "    def forward(self, x):\n",
    "        return x.dot(self.weights) + self.bias\n",
    "    \n",
    "d = Dense(2)\n",
    "check(d, lambda x: DenseLayer(x), verbose=True)"
   ]
  },
  {
   "cell_type": "code",
   "execution_count": null,
   "metadata": {},
   "outputs": [],
   "source": [
    "TODO : add max, mean reconstruction error"
   ]
  },
  {
   "cell_type": "code",
   "execution_count": null,
   "metadata": {},
   "outputs": [],
   "source": []
  }
 ],
 "metadata": {
  "kernelspec": {
   "display_name": "Python 3",
   "language": "python",
   "name": "python3"
  },
  "language_info": {
   "codemirror_mode": {
    "name": "ipython",
    "version": 3
   },
   "file_extension": ".py",
   "mimetype": "text/x-python",
   "name": "python",
   "nbconvert_exporter": "python",
   "pygments_lexer": "ipython3",
   "version": "3.6.8"
  }
 },
 "nbformat": 4,
 "nbformat_minor": 4
}
